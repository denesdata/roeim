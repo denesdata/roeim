{
 "cells": [
  {
   "cell_type": "code",
   "execution_count": 67,
   "id": "7030eb7b-ae84-41cb-b196-0577b9f157b0",
   "metadata": {
    "tags": []
   },
   "outputs": [],
   "source": [
    "import pandas as pd"
   ]
  },
  {
   "cell_type": "code",
   "execution_count": 68,
   "id": "91c5ffb5-ad8c-4207-ab73-ca8ccabc30c7",
   "metadata": {
    "tags": []
   },
   "outputs": [],
   "source": [
    "df=pd.read_excel('Alapadatok RoEM Phase 2.xlsx',sheet_name='Lakossag_map',skiprows=5)\n",
    "df1=df.set_index(list(df.columns[:2])).stack().reset_index()\n",
    "df1.columns=['megye_en','megye_ro','ev','lakossag']"
   ]
  },
  {
   "cell_type": "code",
   "execution_count": 69,
   "id": "de6184c2-42d9-4231-a19f-7aab6367bb48",
   "metadata": {
    "tags": []
   },
   "outputs": [],
   "source": [
    "df=pd.read_excel('Alapadatok RoEM Phase 2.xlsx',sheet_name='Atlagber_map',skiprows=5)\n",
    "df2=df.set_index(list(df.columns[:2])).stack().reset_index()\n",
    "df2.columns=['megye_en','megye_ro','ev','atlagber']"
   ]
  },
  {
   "cell_type": "code",
   "execution_count": 70,
   "id": "d4f1786d-eaa0-4178-83b6-ff15c520fce7",
   "metadata": {
    "tags": []
   },
   "outputs": [],
   "source": [
    "df=pd.read_excel('Alapadatok RoEM Phase 2.xlsx',sheet_name='GDP per fo_map',skiprows=5)\n",
    "df3=df.set_index(list(df.columns[:2])).stack().reset_index()\n",
    "df3.columns=['megye_en','megye_ro','ev','gdp']"
   ]
  },
  {
   "cell_type": "code",
   "execution_count": 71,
   "id": "0c3aac36-d9a2-40df-8457-32ed49bc8fff",
   "metadata": {
    "tags": []
   },
   "outputs": [],
   "source": [
    "df=pd.read_excel('Alapadatok RoEM Phase 2.xlsx',sheet_name='Munkanelkuliseg_map',skiprows=5)\n",
    "df4=df.set_index(list(df.columns[:2])).iloc[1:].stack().reset_index()"
   ]
  },
  {
   "cell_type": "code",
   "execution_count": 72,
   "id": "f03ea1f5-0cd8-421d-a4a4-5fd8572b7f45",
   "metadata": {
    "tags": []
   },
   "outputs": [],
   "source": [
    "df4['year']=df4['level_2'].str.split('.').str[0].bfill()"
   ]
  },
  {
   "cell_type": "code",
   "execution_count": 73,
   "id": "3ee17408-92d8-4181-843c-6c0d790cc803",
   "metadata": {
    "tags": []
   },
   "outputs": [],
   "source": [
    "df4['month']=(df4['level_2'].str.split('.').str[1].fillna(0).astype(int)+1).astype(str)"
   ]
  },
  {
   "cell_type": "code",
   "execution_count": 74,
   "id": "778f99a3-6548-49f1-a5cb-681a1fa84029",
   "metadata": {
    "tags": []
   },
   "outputs": [],
   "source": [
    "df4.columns=['megye_en','megye_ro','x','munkanelkuliseg','ev','ho']\n",
    "df4=df4.drop('x',axis=1)"
   ]
  },
  {
   "cell_type": "code",
   "execution_count": 95,
   "id": "1e7b9147-38b3-4ecf-8708-730783e8169c",
   "metadata": {
    "tags": []
   },
   "outputs": [],
   "source": [
    "df5=df4.groupby(['megye_en','megye_ro','ev'])[['munkanelkuliseg']].mean().reset_index()\n",
    "df5['ev']=df5['ev'].astype(int)"
   ]
  },
  {
   "cell_type": "code",
   "execution_count": 76,
   "id": "e76e7ace-854c-42fa-81f3-6ba4ce5a17f5",
   "metadata": {
    "tags": []
   },
   "outputs": [
    {
     "data": {
      "text/html": [
       "<div>\n",
       "<style scoped>\n",
       "    .dataframe tbody tr th:only-of-type {\n",
       "        vertical-align: middle;\n",
       "    }\n",
       "\n",
       "    .dataframe tbody tr th {\n",
       "        vertical-align: top;\n",
       "    }\n",
       "\n",
       "    .dataframe thead th {\n",
       "        text-align: right;\n",
       "    }\n",
       "</style>\n",
       "<table border=\"1\" class=\"dataframe\">\n",
       "  <thead>\n",
       "    <tr style=\"text-align: right;\">\n",
       "      <th></th>\n",
       "      <th>megye_en</th>\n",
       "      <th>megye_ro</th>\n",
       "      <th>munkanelkuliseg</th>\n",
       "      <th>ev</th>\n",
       "      <th>ho</th>\n",
       "    </tr>\n",
       "  </thead>\n",
       "  <tbody>\n",
       "    <tr>\n",
       "      <th>0</th>\n",
       "      <td>TOTAL</td>\n",
       "      <td>TOTAL</td>\n",
       "      <td>5.4</td>\n",
       "      <td>2012</td>\n",
       "      <td>1</td>\n",
       "    </tr>\n",
       "    <tr>\n",
       "      <th>1</th>\n",
       "      <td>TOTAL</td>\n",
       "      <td>TOTAL</td>\n",
       "      <td>5.4</td>\n",
       "      <td>2012</td>\n",
       "      <td>2</td>\n",
       "    </tr>\n",
       "    <tr>\n",
       "      <th>2</th>\n",
       "      <td>TOTAL</td>\n",
       "      <td>TOTAL</td>\n",
       "      <td>5.1</td>\n",
       "      <td>2012</td>\n",
       "      <td>3</td>\n",
       "    </tr>\n",
       "    <tr>\n",
       "      <th>3</th>\n",
       "      <td>TOTAL</td>\n",
       "      <td>TOTAL</td>\n",
       "      <td>4.8</td>\n",
       "      <td>2012</td>\n",
       "      <td>4</td>\n",
       "    </tr>\n",
       "    <tr>\n",
       "      <th>4</th>\n",
       "      <td>TOTAL</td>\n",
       "      <td>TOTAL</td>\n",
       "      <td>4.6</td>\n",
       "      <td>2012</td>\n",
       "      <td>5</td>\n",
       "    </tr>\n",
       "    <tr>\n",
       "      <th>...</th>\n",
       "      <td>...</td>\n",
       "      <td>...</td>\n",
       "      <td>...</td>\n",
       "      <td>...</td>\n",
       "      <td>...</td>\n",
       "    </tr>\n",
       "    <tr>\n",
       "      <th>6359</th>\n",
       "      <td>Timis</td>\n",
       "      <td>Timiş</td>\n",
       "      <td>0.9</td>\n",
       "      <td>2023</td>\n",
       "      <td>12</td>\n",
       "    </tr>\n",
       "    <tr>\n",
       "      <th>6360</th>\n",
       "      <td>Timis</td>\n",
       "      <td>Timiş</td>\n",
       "      <td>0.8</td>\n",
       "      <td>2024</td>\n",
       "      <td>1</td>\n",
       "    </tr>\n",
       "    <tr>\n",
       "      <th>6361</th>\n",
       "      <td>Timis</td>\n",
       "      <td>Timiş</td>\n",
       "      <td>0.8</td>\n",
       "      <td>2024</td>\n",
       "      <td>2</td>\n",
       "    </tr>\n",
       "    <tr>\n",
       "      <th>6362</th>\n",
       "      <td>Timis</td>\n",
       "      <td>Timiş</td>\n",
       "      <td>0.9</td>\n",
       "      <td>2024</td>\n",
       "      <td>3</td>\n",
       "    </tr>\n",
       "    <tr>\n",
       "      <th>6363</th>\n",
       "      <td>Timis</td>\n",
       "      <td>Timiş</td>\n",
       "      <td>0.9</td>\n",
       "      <td>2024</td>\n",
       "      <td>4</td>\n",
       "    </tr>\n",
       "  </tbody>\n",
       "</table>\n",
       "<p>6364 rows × 5 columns</p>\n",
       "</div>"
      ],
      "text/plain": [
       "     megye_en megye_ro  munkanelkuliseg    ev  ho\n",
       "0       TOTAL    TOTAL              5.4  2012   1\n",
       "1       TOTAL    TOTAL              5.4  2012   2\n",
       "2       TOTAL    TOTAL              5.1  2012   3\n",
       "3       TOTAL    TOTAL              4.8  2012   4\n",
       "4       TOTAL    TOTAL              4.6  2012   5\n",
       "...       ...      ...              ...   ...  ..\n",
       "6359    Timis    Timiş              0.9  2023  12\n",
       "6360    Timis    Timiş              0.8  2024   1\n",
       "6361    Timis    Timiş              0.8  2024   2\n",
       "6362    Timis    Timiş              0.9  2024   3\n",
       "6363    Timis    Timiş              0.9  2024   4\n",
       "\n",
       "[6364 rows x 5 columns]"
      ]
     },
     "execution_count": 76,
     "metadata": {},
     "output_type": "execute_result"
    }
   ],
   "source": [
    "df4"
   ]
  },
  {
   "cell_type": "code",
   "execution_count": 80,
   "id": "6a67d61d-5562-40d0-8dc9-5bf9ad100a05",
   "metadata": {
    "tags": []
   },
   "outputs": [
    {
     "data": {
      "text/html": [
       "<div>\n",
       "<style scoped>\n",
       "    .dataframe tbody tr th:only-of-type {\n",
       "        vertical-align: middle;\n",
       "    }\n",
       "\n",
       "    .dataframe tbody tr th {\n",
       "        vertical-align: top;\n",
       "    }\n",
       "\n",
       "    .dataframe thead th {\n",
       "        text-align: right;\n",
       "    }\n",
       "</style>\n",
       "<table border=\"1\" class=\"dataframe\">\n",
       "  <thead>\n",
       "    <tr style=\"text-align: right;\">\n",
       "      <th></th>\n",
       "      <th>megye_en</th>\n",
       "      <th>megye_ro</th>\n",
       "      <th>ev</th>\n",
       "      <th>atlagber</th>\n",
       "    </tr>\n",
       "  </thead>\n",
       "  <tbody>\n",
       "    <tr>\n",
       "      <th>0</th>\n",
       "      <td>TOTAL</td>\n",
       "      <td>TOTAL</td>\n",
       "      <td>2012</td>\n",
       "      <td>1507</td>\n",
       "    </tr>\n",
       "    <tr>\n",
       "      <th>1</th>\n",
       "      <td>TOTAL</td>\n",
       "      <td>TOTAL</td>\n",
       "      <td>2013</td>\n",
       "      <td>1579</td>\n",
       "    </tr>\n",
       "    <tr>\n",
       "      <th>2</th>\n",
       "      <td>TOTAL</td>\n",
       "      <td>TOTAL</td>\n",
       "      <td>2014</td>\n",
       "      <td>1697</td>\n",
       "    </tr>\n",
       "    <tr>\n",
       "      <th>3</th>\n",
       "      <td>TOTAL</td>\n",
       "      <td>TOTAL</td>\n",
       "      <td>2015</td>\n",
       "      <td>1859</td>\n",
       "    </tr>\n",
       "    <tr>\n",
       "      <th>4</th>\n",
       "      <td>TOTAL</td>\n",
       "      <td>TOTAL</td>\n",
       "      <td>2016</td>\n",
       "      <td>2046</td>\n",
       "    </tr>\n",
       "    <tr>\n",
       "      <th>...</th>\n",
       "      <td>...</td>\n",
       "      <td>...</td>\n",
       "      <td>...</td>\n",
       "      <td>...</td>\n",
       "    </tr>\n",
       "    <tr>\n",
       "      <th>468</th>\n",
       "      <td>Timis</td>\n",
       "      <td>Timiş</td>\n",
       "      <td>2018</td>\n",
       "      <td>2922</td>\n",
       "    </tr>\n",
       "    <tr>\n",
       "      <th>469</th>\n",
       "      <td>Timis</td>\n",
       "      <td>Timiş</td>\n",
       "      <td>2019</td>\n",
       "      <td>3310</td>\n",
       "    </tr>\n",
       "    <tr>\n",
       "      <th>470</th>\n",
       "      <td>Timis</td>\n",
       "      <td>Timiş</td>\n",
       "      <td>2020</td>\n",
       "      <td>3536</td>\n",
       "    </tr>\n",
       "    <tr>\n",
       "      <th>471</th>\n",
       "      <td>Timis</td>\n",
       "      <td>Timiş</td>\n",
       "      <td>2021</td>\n",
       "      <td>3845</td>\n",
       "    </tr>\n",
       "    <tr>\n",
       "      <th>472</th>\n",
       "      <td>Timis</td>\n",
       "      <td>Timiş</td>\n",
       "      <td>2022</td>\n",
       "      <td>4251</td>\n",
       "    </tr>\n",
       "  </tbody>\n",
       "</table>\n",
       "<p>473 rows × 4 columns</p>\n",
       "</div>"
      ],
      "text/plain": [
       "    megye_en megye_ro    ev  atlagber\n",
       "0      TOTAL    TOTAL  2012      1507\n",
       "1      TOTAL    TOTAL  2013      1579\n",
       "2      TOTAL    TOTAL  2014      1697\n",
       "3      TOTAL    TOTAL  2015      1859\n",
       "4      TOTAL    TOTAL  2016      2046\n",
       "..       ...      ...   ...       ...\n",
       "468    Timis    Timiş  2018      2922\n",
       "469    Timis    Timiş  2019      3310\n",
       "470    Timis    Timiş  2020      3536\n",
       "471    Timis    Timiş  2021      3845\n",
       "472    Timis    Timiş  2022      4251\n",
       "\n",
       "[473 rows x 4 columns]"
      ]
     },
     "execution_count": 80,
     "metadata": {},
     "output_type": "execute_result"
    }
   ],
   "source": [
    "df2"
   ]
  },
  {
   "cell_type": "code",
   "execution_count": 98,
   "id": "5bbb22a0-56fd-45c6-9221-f1f76d32367f",
   "metadata": {
    "tags": []
   },
   "outputs": [],
   "source": [
    "dk=df1.set_index(['megye_en','megye_ro','ev']).join(\\\n",
    "           df2.set_index(['megye_en','megye_ro','ev'])).join(\\\n",
    "           df3.set_index(['megye_en','megye_ro','ev'])).join(\\\n",
    "           df5.set_index(['megye_en','megye_ro','ev'])).reset_index()"
   ]
  },
  {
   "cell_type": "code",
   "execution_count": 100,
   "id": "e618d09d-85aa-4b4d-91e3-25588b705da3",
   "metadata": {
    "tags": []
   },
   "outputs": [],
   "source": [
    "dk.to_csv('map.csv',index=False)"
   ]
  },
  {
   "cell_type": "code",
   "execution_count": 106,
   "id": "5ea24086-2741-41ce-bbfe-3706406a484b",
   "metadata": {
    "tags": []
   },
   "outputs": [
    {
     "data": {
      "text/plain": [
       "77847"
      ]
     },
     "execution_count": 106,
     "metadata": {},
     "output_type": "execute_result"
    }
   ],
   "source": [
    "import json\n",
    "open('map.json','w').write(json.dumps(list(dk.T.to_dict().values())))"
   ]
  }
 ],
 "metadata": {
  "kernelspec": {
   "display_name": "Python 3 (ipykernel)",
   "language": "python",
   "name": "python3"
  },
  "language_info": {
   "codemirror_mode": {
    "name": "ipython",
    "version": 3
   },
   "file_extension": ".py",
   "mimetype": "text/x-python",
   "name": "python",
   "nbconvert_exporter": "python",
   "pygments_lexer": "ipython3",
   "version": "3.10.10"
  }
 },
 "nbformat": 4,
 "nbformat_minor": 5
}
